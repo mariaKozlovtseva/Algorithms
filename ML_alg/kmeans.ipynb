{
 "cells": [
  {
   "cell_type": "code",
   "execution_count": 111,
   "metadata": {},
   "outputs": [],
   "source": [
    "import numpy as np\n",
    "\n",
    "def euclidian(x1, x2):\n",
    "    return np.linalg.norm(x1 - x2)\n",
    "\n",
    "def update_centroids(data, predicted_classes, k):\n",
    "    new_centroids = np.zeros((k, data.shape[1]))\n",
    "    for i in range(k):\n",
    "        # pick features, which were assigned to class i\n",
    "        indices = [index for index in range(len(predicted_classes)) if predicted_classes[index] == i]\n",
    "        new_centroids[i, :] = np.mean(data[indices], axis=0)\n",
    "    return new_centroids\n",
    "\n",
    "def kmeans(data, k, epsilon=0, distance_func='euclidian'):\n",
    "    # to track our centroids\n",
    "    history_of_centroids = []\n",
    "    if distance_func == 'euclidian':\n",
    "        dist_method = euclidian\n",
    "    # choose randomly initial centroids\n",
    "    curr_centroids = data[np.random.randint(0, data.shape[0] - 1, size=k)]\n",
    "    history_of_centroids.append(curr_centroids)\n",
    "\n",
    "    prev_centroids = np.zeros(curr_centroids.shape)\n",
    "    norm = dist_method(curr_centroids, prev_centroids)\n",
    "    predicted_class = np.zeros((data.shape[0], 1))\n",
    "    iteration = 0\n",
    "    # train until norm reaches epsilon\n",
    "    while norm > epsilon:\n",
    "        iteration += 1\n",
    "        norm = dist_method(curr_centroids, prev_centroids)\n",
    "        \n",
    "        for idx, feature in enumerate(data):\n",
    "            distance_vector = np.zeros((k, 1))\n",
    "            for idx_centroid, centroid in enumerate(curr_centroids):\n",
    "                distance_vector[idx_centroid, :] = dist_method(feature, centroid)\n",
    "            predicted_class[idx, 0] = np.argmin(distance_vector)\n",
    "            \n",
    "        prev_centroids = curr_centroids\n",
    "        curr_centroids = update_centroids(data, predicted_class, k)\n",
    "        history_of_centroids.append(curr_centroids)\n",
    "    return curr_centroids, history_of_centroids, predicted_class\n",
    "\n",
    "# test our model on iris data set\n",
    "from sklearn.datasets import load_iris\n",
    "X, y = load_iris(return_X_y=True)\n",
    "# use only two features\n",
    "centroids, history, preds = kmeans(X[:,:2], 3)"
   ]
  },
  {
   "cell_type": "code",
   "execution_count": 112,
   "metadata": {},
   "outputs": [
    {
     "data": {
      "image/png": "[encoded data removed]",
      "text/plain": [
       "<Figure size 432x288 with 1 Axes>"
      ]
     },
     "metadata": {
      "needs_background": "light"
     },
     "output_type": "display_data"
    }
   ],
   "source": [
    "def plot_results(history, preds, centroids, data):\n",
    "    colors = ['r', 'g', 'b']\n",
    "    fig, ax = plt.subplots()\n",
    "    for index in range(3):\n",
    "        close_features_ids = [i for i in range(len(preds)) if preds[i] == index]\n",
    "        for idx in close_features_ids:\n",
    "            ax.plot(data[idx][0], data[idx][1], (colors[index]+'o'))\n",
    "    for centroid in centroids:\n",
    "        ax.plot(centroid[0], centroid[1], 'ko')      \n",
    "plot_results(history, preds, centroids, X[:, :2])"
   ]
  },
  {
   "cell_type": "code",
   "execution_count": null,
   "metadata": {},
   "outputs": [],
   "source": []
  }
 ],
 "metadata": {
  "kernelspec": {
   "display_name": "Python 3",
   "language": "python",
   "name": "python3"
  },
  "language_info": {
   "codemirror_mode": {
    "name": "ipython",
    "version": 3
   },
   "file_extension": ".py",
   "mimetype": "text/x-python",
   "name": "python",
   "nbconvert_exporter": "python",
   "pygments_lexer": "ipython3",
   "version": "3.8.3"
  }
 },
 "nbformat": 4,
 "nbformat_minor": 4
}
