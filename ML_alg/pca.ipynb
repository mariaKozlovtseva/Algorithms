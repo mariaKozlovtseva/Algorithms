{
 "cells": [
  {
   "cell_type": "code",
   "execution_count": 118,
   "metadata": {},
   "outputs": [],
   "source": [
    "from sklearn.datasets import load_iris\n",
    "import numpy as np\n",
    "import matplotlib.pyplot as plt"
   ]
  },
  {
   "cell_type": "code",
   "execution_count": 133,
   "metadata": {},
   "outputs": [],
   "source": [
    "X, y = load_iris(return_X_y=True)"
   ]
  },
  {
   "cell_type": "code",
   "execution_count": 9,
   "metadata": {},
   "outputs": [],
   "source": [
    "# or you can use StandartScaler from sklearn\n",
    "def standardize(X):\n",
    "    mean = np.mean(X, axis=0)\n",
    "    std = np.std(X, axis=0)\n",
    "    return (X - mean) / std"
   ]
  },
  {
   "cell_type": "code",
   "execution_count": 204,
   "metadata": {},
   "outputs": [],
   "source": [
    "def pca(X, n_components=2, method = 'eigen', scale = True):\n",
    "    \"\"\"\n",
    "    This function implements Principal component analysis. \n",
    "    You can choose number of components, method of computation and whether do or skip scaling process.\n",
    "    :param X: array of type np.ndarray\n",
    "    :param n_components: int (2 by default) or float (if you want explicitly preserve explained variance)\n",
    "    :param method: 'eigen' (by default), 'svd'\n",
    "    :param scale: whether scale input data (True by default) or not\n",
    "    :return: transformed input data X, n_components, cumulative variance explained\n",
    "    \"\"\"\n",
    "    if scale == True:\n",
    "        X = standardize(X)\n",
    "    if method == 'eigen':\n",
    "        mean_vector = np.mean(X, axis=0)\n",
    "        # @ means dot product\n",
    "        # of course here you can also use np.cov() function\n",
    "        cov_matrix = (X - mean_vector).T @ (X - mean_vector) / (X.shape[0] - 1)\n",
    "        print('Covarinace matrix is: \\n%s' % cov_matrix)\n",
    "        eigvalues, eigvectors = np.linalg.eig(cov_matrix)\n",
    "        \n",
    "    elif method == 'svd':\n",
    "        _, S, Vt = np.linalg.svd(X, full_matrices=False)\n",
    "        eigvalues, eigvectors = np.square(S) / (X.shape[0]-1), Vt.T\n",
    "    \n",
    "    print('\\nEigenvectors: \\n%s' % eigvectors)\n",
    "    print('\\nEigenvalues: \\n%s' % eigvalues)\n",
    "        \n",
    "    # in order to make projection matrix, \n",
    "    # we should select eigvectors with the highst eigvalues\n",
    "    eig_pairs = [(np.abs(eigvalues[i]), eigvectors[:,i]) for i in range(len(eigvalues))]\n",
    "    eig_pairs.sort(key=lambda x: x[0], reverse=True)\n",
    "        \n",
    "    total_var = sum(eigvalues)\n",
    "    var_expl = [(i / total_var) * 100 for i in sorted(eigvalues, reverse=True)]\n",
    "    cum_var_expl = np.cumsum(var_expl)\n",
    "    print('\\nCumulative variance: \\n%s' % cum_var_expl)\n",
    "    \n",
    "    # if we want specific proportion of variance explained\n",
    "    if isinstance(n_components, float):\n",
    "        n_components *= 100\n",
    "        # if all cum_var are less than desired threshold\n",
    "        # use all components\n",
    "        if np.all(cum_var_expl < n_components):\n",
    "            n_components = cum_var_expl.shape[0]\n",
    "        else:\n",
    "            conditional_var = np.where(cum_var_expl>=n_components, True, False)\n",
    "            n_components = np.argmax(conditional_var) + 1\n",
    "    # select desired number of eigvectors \n",
    "    selected_eig_pairs = eig_pairs[:n_components]\n",
    "    print('\\nThese eig_pairs will be used in decomposition: \\n%s' % selected_eig_pairs)\n",
    "        \n",
    "    if n_components > 1:\n",
    "        # reshape matrix to shape (4,1)\n",
    "        projection_matrix = np.hstack((selected_eig_pairs[i][1].reshape(X.shape[1], 1) for i in range(n_components)))\n",
    "    else:\n",
    "        projection_matrix = selected_eig_pairs[0][1].reshape(X.shape[1], 1)\n",
    "    print('\\nProjection matrix: \\n%s' % projection_matrix)\n",
    "        \n",
    "    X_transformed = X @ projection_matrix\n",
    "    return X_transformed, n_components, cum_var_expl"
   ]
  },
  {
   "cell_type": "code",
   "execution_count": 205,
   "metadata": {
    "collapsed": true
   },
   "outputs": [
    {
     "name": "stdout",
     "output_type": "stream",
     "text": [
      "Covarinace matrix is: \n",
      "[[ 1.00671141 -0.11835884  0.87760447  0.82343066]\n",
      " [-0.11835884  1.00671141 -0.43131554 -0.36858315]\n",
      " [ 0.87760447 -0.43131554  1.00671141  0.96932762]\n",
      " [ 0.82343066 -0.36858315  0.96932762  1.00671141]]\n",
      "\n",
      "Eigenvectors: \n",
      "[[ 0.52106591 -0.37741762 -0.71956635  0.26128628]\n",
      " [-0.26934744 -0.92329566  0.24438178 -0.12350962]\n",
      " [ 0.5804131  -0.02449161  0.14212637 -0.80144925]\n",
      " [ 0.56485654 -0.06694199  0.63427274  0.52359713]]\n",
      "\n",
      "Eigenvalues: \n",
      "[2.93808505 0.9201649  0.14774182 0.02085386]\n",
      "\n",
      "Cumulative variance: \n",
      "[ 72.96244541  95.8132072   99.48212909 100.        ]\n",
      "\n",
      "These eig_pairs will be used in decomposition: \n",
      "[(2.9380850501999936, array([ 0.52106591, -0.26934744,  0.5804131 ,  0.56485654])), (0.9201649041624879, array([-0.37741762, -0.92329566, -0.02449161, -0.06694199]))]\n",
      "\n",
      "Projection matrix: \n",
      "[[ 0.52106591 -0.37741762]\n",
      " [-0.26934744 -0.92329566]\n",
      " [ 0.5804131  -0.02449161]\n",
      " [ 0.56485654 -0.06694199]]\n"
     ]
    },
    {
     "name": "stderr",
     "output_type": "stream",
     "text": [
      "<ipython-input-204-58b3cdac4331>:46: FutureWarning: arrays to stack must be passed as a \"sequence\" type such as list or tuple. Support for non-sequence iterables such as generators is deprecated as of NumPy 1.16 and will raise an error in the future.\n",
      "  projection_matrix = np.hstack((selected_eig_pairs[i][1].reshape(X.shape[1], 1) for i in range(n_components)))\n"
     ]
    }
   ],
   "source": [
    "X_transformed, n_components, cum_var_expl = pca(X, 0.9)"
   ]
  },
  {
   "cell_type": "code",
   "execution_count": 206,
   "metadata": {},
   "outputs": [
    {
     "data": {
      "image/png": "[encoded data removed]",
      "text/plain": [
       "<Figure size 720x360 with 1 Axes>"
      ]
     },
     "metadata": {},
     "output_type": "display_data"
    }
   ],
   "source": [
    "# plot our results\n",
    "labels = ['setosa', 'versicolor', 'virginica']\n",
    "plt.style.use('seaborn')\n",
    "plt.figure(figsize=(10, 5))\n",
    "for idx, color in zip([0, 1, 2], ('blue', 'red', 'green')):\n",
    "    plt.scatter(X_transformed[y==idx, 0], X_transformed[y==idx, 1],\n",
    "                    label=labels[idx], c=color)\n",
    "    plt.legend()\n",
    "    plt.xlabel('First principal component')\n",
    "    plt.ylabel('Second principal component')"
   ]
  }
 ],
 "metadata": {
  "kernelspec": {
   "display_name": "Python 3",
   "language": "python",
   "name": "python3"
  },
  "language_info": {
   "codemirror_mode": {
    "name": "ipython",
    "version": 3
   },
   "file_extension": ".py",
   "mimetype": "text/x-python",
   "name": "python",
   "nbconvert_exporter": "python",
   "pygments_lexer": "ipython3",
   "version": "3.8.3"
  }
 },
 "nbformat": 4,
 "nbformat_minor": 4
}
